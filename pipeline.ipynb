{
 "cells": [
  {
   "cell_type": "code",
   "execution_count": 3,
   "metadata": {},
   "outputs": [
    {
     "name": "stdout",
     "output_type": "stream",
     "text": [
      "STREP22-0001-SC-M05253-230701_S20\n",
      "emmtyper data/4_assembled/STREP22-0001-SC-M05253-230701_S20/contigs.fasta -o data/6_emmtyped/STREP22-0001-SC-M05253-230701_S20.txt\n"
     ]
    },
    {
     "name": "stderr",
     "output_type": "stream",
     "text": [
      "INFO:emmtyper.bin.run_emmtyper:Start running emmtyper on 1 queries.\n",
      "INFO:emmtyper.objects.blast:Running command /opt/homebrew/bin/blastn -db \"\\\"/opt/homebrew/lib/python3.11/site-packages/emmtyper/db/emm.fna\"\\\" -query data/4_assembled/STREP22-0001-SC-M05253-230701_S20/contigs.fasta -dust no -perc_identity 95 -culling_limit 5 -outfmt \"6 std slen\"\n",
      "INFO:emmtyper.bin.run_emmtyper:Finished emmtyper.\n"
     ]
    },
    {
     "name": "stdout",
     "output_type": "stream",
     "text": [
      "STREP22-0003-SC-M05253-230701_S22\n",
      "emmtyper data/4_assembled/STREP22-0003-SC-M05253-230701_S22/contigs.fasta -o data/6_emmtyped/STREP22-0003-SC-M05253-230701_S22.txt\n"
     ]
    },
    {
     "name": "stderr",
     "output_type": "stream",
     "text": [
      "INFO:emmtyper.bin.run_emmtyper:Start running emmtyper on 1 queries.\n",
      "INFO:emmtyper.objects.blast:Running command /opt/homebrew/bin/blastn -db \"\\\"/opt/homebrew/lib/python3.11/site-packages/emmtyper/db/emm.fna\"\\\" -query data/4_assembled/STREP22-0003-SC-M05253-230701_S22/contigs.fasta -dust no -perc_identity 95 -culling_limit 5 -outfmt \"6 std slen\"\n",
      "INFO:emmtyper.bin.run_emmtyper:Finished emmtyper.\n",
      "INFO:emmtyper.bin.run_emmtyper:Start running emmtyper on 1 queries.\n"
     ]
    },
    {
     "name": "stdout",
     "output_type": "stream",
     "text": [
      "STREP22-0004-SC-M05253-230701_S23\n",
      "emmtyper data/4_assembled/STREP22-0004-SC-M05253-230701_S23/contigs.fasta -o data/6_emmtyped/STREP22-0004-SC-M05253-230701_S23.txt\n"
     ]
    },
    {
     "name": "stderr",
     "output_type": "stream",
     "text": [
      "INFO:emmtyper.objects.blast:Running command /opt/homebrew/bin/blastn -db \"\\\"/opt/homebrew/lib/python3.11/site-packages/emmtyper/db/emm.fna\"\\\" -query data/4_assembled/STREP22-0004-SC-M05253-230701_S23/contigs.fasta -dust no -perc_identity 95 -culling_limit 5 -outfmt \"6 std slen\"\n",
      "INFO:emmtyper.bin.run_emmtyper:Finished emmtyper.\n",
      "INFO:emmtyper.bin.run_emmtyper:Start running emmtyper on 1 queries.\n"
     ]
    },
    {
     "name": "stdout",
     "output_type": "stream",
     "text": [
      "STREP22-0002-SC-M05253-230701_S21\n",
      "emmtyper data/4_assembled/STREP22-0002-SC-M05253-230701_S21/contigs.fasta -o data/6_emmtyped/STREP22-0002-SC-M05253-230701_S21.txt\n"
     ]
    },
    {
     "name": "stderr",
     "output_type": "stream",
     "text": [
      "INFO:emmtyper.objects.blast:Running command /opt/homebrew/bin/blastn -db \"\\\"/opt/homebrew/lib/python3.11/site-packages/emmtyper/db/emm.fna\"\\\" -query data/4_assembled/STREP22-0002-SC-M05253-230701_S21/contigs.fasta -dust no -perc_identity 95 -culling_limit 5 -outfmt \"6 std slen\"\n",
      "INFO:emmtyper.bin.run_emmtyper:Finished emmtyper.\n"
     ]
    }
   ],
   "source": [
    "import os\n",
    "source_dir = f'data/4_assembled'\n",
    "target_dir = f'data/6_emmtyped'\n",
    "if not os.path.isdir(target_dir):\n",
    "    os.makedirs(target_dir)\n",
    "for file in os.listdir(source_dir):\n",
    "    print(file)\n",
    "    if os.path.isdir(f'{target_dir}/{file}'):\n",
    "        print(f'already emmtyped {file}')\n",
    "        continue\n",
    "    command = f'emmtyper {source_dir}/{file}/contigs.fasta -o {target_dir}/{file}.txt'\n",
    "    print(command)\n",
    "    os.system(command)"
   ]
  },
  {
   "cell_type": "code",
   "execution_count": null,
   "metadata": {},
   "outputs": [],
   "source": [
    "import os\n",
    "source_dir = f'data/4_assembled'\n",
    "target_dir = f'data/4_assembled'\n",
    "if not os.path.isdir(target_dir):\n",
    "    os.makedirs(target_dir)\n",
    "files = [file.replace(\"_R1.trimd.fastq\",\"\") for file in os.listdir(source_dir) if file.endswith('R1.trimd.fastq')]\n",
    "for file in files:\n",
    "    print(file)\n",
    "    if os.path.isdir(f'{target_dir}/{file}'):\n",
    "        print(f'already assembled {file}')\n",
    "        continue\n",
    "    command = f'spades -1 {source_dir}/{file}_R1.trimd.fastq -2 {source_dir}/{file}_R2.trimd.fastq -o {target_dir}/{file}'\n",
    "    os.system(command)"
   ]
  }
 ],
 "metadata": {
  "kernelspec": {
   "display_name": "Python 3",
   "language": "python",
   "name": "python3"
  },
  "language_info": {
   "codemirror_mode": {
    "name": "ipython",
    "version": 3
   },
   "file_extension": ".py",
   "mimetype": "text/x-python",
   "name": "python",
   "nbconvert_exporter": "python",
   "pygments_lexer": "ipython3",
   "version": "3.11.4"
  },
  "orig_nbformat": 4
 },
 "nbformat": 4,
 "nbformat_minor": 2
}
