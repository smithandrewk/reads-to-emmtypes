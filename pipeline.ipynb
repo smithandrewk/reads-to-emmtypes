{
 "cells": [
  {
   "cell_type": "code",
   "execution_count": null,
   "metadata": {},
   "outputs": [],
   "source": [
    "import os\n",
    "\n",
    "dir = f'samples'\n",
    "for file in os.listdir(f'{dir}'):\n",
    "    for subfile in os.listdir(f'{dir}/{file}'):\n",
    "        prefix = subfile.split('_')[-2]\n",
    "        command = f'mv {dir}/{file}/{subfile} {dir}/{file}/{prefix}.fastq.gz'\n",
    "        os.system(command)\n",
    "        print(command)"
   ]
  },
  {
   "cell_type": "code",
   "execution_count": null,
   "metadata": {},
   "outputs": [],
   "source": [
    "import os\n",
    "dir = f'samples'\n",
    "for file in os.listdir(f'{dir}'):\n",
    "    path = f'{dir}/{file}'\n",
    "    command = f'cutadapt -b AGATCGGAAGAGCACACGTCTGAACTCCAGTCAC -q 20 --minimum-length 50 -o {path}/R1.temp.fastq -p {path}/R2.temp.fastq -j 0 {path}/R1.fastq.gz {path}/R2.fastq.gz'\n",
    "    print(command)\n",
    "    os.system(command)\n",
    "    command = f'cutadapt -b AGATCGGAAGAGCGTCGTGTAGGGAAAGAGTGTAGATCTCGGTGGTCGCCGTATCATT -q 20 --minimum-length 50 -o {path}/R1.trimd.fastq -p {path}/R2.trimd.fastq -j 0 {path}/R1.temp.fastq {path}/R2.temp.fastq'\n",
    "    os.system(command)\n",
    "    command = f'rm {path}/R1.temp.fastq {path}/R2.temp.fastq'\n",
    "    os.system(command)"
   ]
  },
  {
   "cell_type": "code",
   "execution_count": null,
   "metadata": {},
   "outputs": [],
   "source": [
    "import os\n",
    "dir = f'samples'\n",
    "for file in os.listdir(f'{dir}'):\n",
    "    path = f'{dir}/{file}'\n",
    "    if os.path.exists(f'{path}/spades'):\n",
    "        print(f'already assembled {file}')\n",
    "        continue\n",
    "    command = f'spades -1 {path}/R1.trimd.fastq -2 {path}/R2.trimd.fastq -o {path}/spades'\n",
    "    os.system(command)"
   ]
  }
 ],
 "metadata": {
  "kernelspec": {
   "display_name": "Python 3",
   "language": "python",
   "name": "python3"
  },
  "language_info": {
   "codemirror_mode": {
    "name": "ipython",
    "version": 3
   },
   "file_extension": ".py",
   "mimetype": "text/x-python",
   "name": "python",
   "nbconvert_exporter": "python",
   "pygments_lexer": "ipython3",
   "version": "3.11.4"
  },
  "orig_nbformat": 4
 },
 "nbformat": 4,
 "nbformat_minor": 2
}
